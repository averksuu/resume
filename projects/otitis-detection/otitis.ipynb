{
  "nbformat": 4,
  "nbformat_minor": 0,
  "metadata": {
    "colab": {
      "provenance": []
    },
    "kernelspec": {
      "name": "python3",
      "display_name": "Python 3"
    },
    "language_info": {
      "name": "python"
    },
    "widgets": {
      "application/vnd.jupyter.widget-state+json": {
        "74879879f8ba457ea1cc2fdd5db090d4": {
          "model_module": "@jupyter-widgets/controls",
          "model_name": "VBoxModel",
          "model_module_version": "1.5.0",
          "state": {
            "_dom_classes": [],
            "_model_module": "@jupyter-widgets/controls",
            "_model_module_version": "1.5.0",
            "_model_name": "VBoxModel",
            "_view_count": null,
            "_view_module": "@jupyter-widgets/controls",
            "_view_module_version": "1.5.0",
            "_view_name": "VBoxView",
            "box_style": "",
            "children": [
              "IPY_MODEL_6eb6724c77804e149a923519c2f16662",
              "IPY_MODEL_ed05b24c23fc484ea00dc339b5667a24",
              "IPY_MODEL_5b74675da8264e43a5fa8caa80f7e1b9"
            ],
            "layout": "IPY_MODEL_8025b9a4484e4d1d8bf83cd6e14424ae"
          }
        },
        "6eb6724c77804e149a923519c2f16662": {
          "model_module": "@jupyter-widgets/controls",
          "model_name": "LabelModel",
          "model_module_version": "1.5.0",
          "state": {
            "_dom_classes": [],
            "_model_module": "@jupyter-widgets/controls",
            "_model_module_version": "1.5.0",
            "_model_name": "LabelModel",
            "_view_count": null,
            "_view_module": "@jupyter-widgets/controls",
            "_view_module_version": "1.5.0",
            "_view_name": "LabelView",
            "description": "",
            "description_tooltip": null,
            "layout": "IPY_MODEL_d502a3a936184916b1278bb34ae2a2a8",
            "placeholder": "​",
            "style": "IPY_MODEL_d7b6fd0014274463871ab5ea438756ac",
            "value": "Upload an ear image (.jpg/.png):"
          }
        },
        "ed05b24c23fc484ea00dc339b5667a24": {
          "model_module": "@jupyter-widgets/controls",
          "model_name": "FileUploadModel",
          "model_module_version": "1.5.0",
          "state": {
            "_counter": 1,
            "_dom_classes": [],
            "_model_module": "@jupyter-widgets/controls",
            "_model_module_version": "1.5.0",
            "_model_name": "FileUploadModel",
            "_view_count": null,
            "_view_module": "@jupyter-widgets/controls",
            "_view_module_version": "1.5.0",
            "_view_name": "FileUploadView",
            "accept": "image/*",
            "button_style": "",
            "data": [
              null
            ],
            "description": "Upload",
            "description_tooltip": null,
            "disabled": false,
            "error": "",
            "icon": "upload",
            "layout": "IPY_MODEL_71d1a5ee1d2544d1af15199f82e66420",
            "metadata": [
              {
                "name": "5210986543978769029 (1).jpg",
                "type": "image/jpeg",
                "size": 15580,
                "lastModified": 1748509907407
              }
            ],
            "multiple": false,
            "style": "IPY_MODEL_43329520d428480398ea75fc85802d2e"
          }
        },
        "5b74675da8264e43a5fa8caa80f7e1b9": {
          "model_module": "@jupyter-widgets/output",
          "model_name": "OutputModel",
          "model_module_version": "1.0.0",
          "state": {
            "_dom_classes": [],
            "_model_module": "@jupyter-widgets/output",
            "_model_module_version": "1.0.0",
            "_model_name": "OutputModel",
            "_view_count": null,
            "_view_module": "@jupyter-widgets/output",
            "_view_module_version": "1.0.0",
            "_view_name": "OutputView",
            "layout": "IPY_MODEL_a2e90d5a5c374ff3968ab364114100a2",
            "msg_id": "",
            "outputs": [
              {
                "output_type": "display_data",
                "data": {
                  "image/jpeg": "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\n",
                  "text/plain": "<IPython.core.display.Image object>"
                },
                "metadata": {}
              },
              {
                "output_type": "stream",
                "name": "stdout",
                "text": [
                  "Probability of Otitis: 1.0000\n",
                  "Predicted class      : Otitis\n"
                ]
              }
            ]
          }
        },
        "8025b9a4484e4d1d8bf83cd6e14424ae": {
          "model_module": "@jupyter-widgets/base",
          "model_name": "LayoutModel",
          "model_module_version": "1.2.0",
          "state": {
            "_model_module": "@jupyter-widgets/base",
            "_model_module_version": "1.2.0",
            "_model_name": "LayoutModel",
            "_view_count": null,
            "_view_module": "@jupyter-widgets/base",
            "_view_module_version": "1.2.0",
            "_view_name": "LayoutView",
            "align_content": null,
            "align_items": null,
            "align_self": null,
            "border": null,
            "bottom": null,
            "display": null,
            "flex": null,
            "flex_flow": null,
            "grid_area": null,
            "grid_auto_columns": null,
            "grid_auto_flow": null,
            "grid_auto_rows": null,
            "grid_column": null,
            "grid_gap": null,
            "grid_row": null,
            "grid_template_areas": null,
            "grid_template_columns": null,
            "grid_template_rows": null,
            "height": null,
            "justify_content": null,
            "justify_items": null,
            "left": null,
            "margin": null,
            "max_height": null,
            "max_width": null,
            "min_height": null,
            "min_width": null,
            "object_fit": null,
            "object_position": null,
            "order": null,
            "overflow": null,
            "overflow_x": null,
            "overflow_y": null,
            "padding": null,
            "right": null,
            "top": null,
            "visibility": null,
            "width": null
          }
        },
        "d502a3a936184916b1278bb34ae2a2a8": {
          "model_module": "@jupyter-widgets/base",
          "model_name": "LayoutModel",
          "model_module_version": "1.2.0",
          "state": {
            "_model_module": "@jupyter-widgets/base",
            "_model_module_version": "1.2.0",
            "_model_name": "LayoutModel",
            "_view_count": null,
            "_view_module": "@jupyter-widgets/base",
            "_view_module_version": "1.2.0",
            "_view_name": "LayoutView",
            "align_content": null,
            "align_items": null,
            "align_self": null,
            "border": null,
            "bottom": null,
            "display": null,
            "flex": null,
            "flex_flow": null,
            "grid_area": null,
            "grid_auto_columns": null,
            "grid_auto_flow": null,
            "grid_auto_rows": null,
            "grid_column": null,
            "grid_gap": null,
            "grid_row": null,
            "grid_template_areas": null,
            "grid_template_columns": null,
            "grid_template_rows": null,
            "height": null,
            "justify_content": null,
            "justify_items": null,
            "left": null,
            "margin": null,
            "max_height": null,
            "max_width": null,
            "min_height": null,
            "min_width": null,
            "object_fit": null,
            "object_position": null,
            "order": null,
            "overflow": null,
            "overflow_x": null,
            "overflow_y": null,
            "padding": null,
            "right": null,
            "top": null,
            "visibility": null,
            "width": null
          }
        },
        "d7b6fd0014274463871ab5ea438756ac": {
          "model_module": "@jupyter-widgets/controls",
          "model_name": "DescriptionStyleModel",
          "model_module_version": "1.5.0",
          "state": {
            "_model_module": "@jupyter-widgets/controls",
            "_model_module_version": "1.5.0",
            "_model_name": "DescriptionStyleModel",
            "_view_count": null,
            "_view_module": "@jupyter-widgets/base",
            "_view_module_version": "1.2.0",
            "_view_name": "StyleView",
            "description_width": ""
          }
        },
        "71d1a5ee1d2544d1af15199f82e66420": {
          "model_module": "@jupyter-widgets/base",
          "model_name": "LayoutModel",
          "model_module_version": "1.2.0",
          "state": {
            "_model_module": "@jupyter-widgets/base",
            "_model_module_version": "1.2.0",
            "_model_name": "LayoutModel",
            "_view_count": null,
            "_view_module": "@jupyter-widgets/base",
            "_view_module_version": "1.2.0",
            "_view_name": "LayoutView",
            "align_content": null,
            "align_items": null,
            "align_self": null,
            "border": null,
            "bottom": null,
            "display": null,
            "flex": null,
            "flex_flow": null,
            "grid_area": null,
            "grid_auto_columns": null,
            "grid_auto_flow": null,
            "grid_auto_rows": null,
            "grid_column": null,
            "grid_gap": null,
            "grid_row": null,
            "grid_template_areas": null,
            "grid_template_columns": null,
            "grid_template_rows": null,
            "height": null,
            "justify_content": null,
            "justify_items": null,
            "left": null,
            "margin": null,
            "max_height": null,
            "max_width": null,
            "min_height": null,
            "min_width": null,
            "object_fit": null,
            "object_position": null,
            "order": null,
            "overflow": null,
            "overflow_x": null,
            "overflow_y": null,
            "padding": null,
            "right": null,
            "top": null,
            "visibility": null,
            "width": null
          }
        },
        "43329520d428480398ea75fc85802d2e": {
          "model_module": "@jupyter-widgets/controls",
          "model_name": "ButtonStyleModel",
          "model_module_version": "1.5.0",
          "state": {
            "_model_module": "@jupyter-widgets/controls",
            "_model_module_version": "1.5.0",
            "_model_name": "ButtonStyleModel",
            "_view_count": null,
            "_view_module": "@jupyter-widgets/base",
            "_view_module_version": "1.2.0",
            "_view_name": "StyleView",
            "button_color": null,
            "font_weight": ""
          }
        },
        "a2e90d5a5c374ff3968ab364114100a2": {
          "model_module": "@jupyter-widgets/base",
          "model_name": "LayoutModel",
          "model_module_version": "1.2.0",
          "state": {
            "_model_module": "@jupyter-widgets/base",
            "_model_module_version": "1.2.0",
            "_model_name": "LayoutModel",
            "_view_count": null,
            "_view_module": "@jupyter-widgets/base",
            "_view_module_version": "1.2.0",
            "_view_name": "LayoutView",
            "align_content": null,
            "align_items": null,
            "align_self": null,
            "border": null,
            "bottom": null,
            "display": null,
            "flex": null,
            "flex_flow": null,
            "grid_area": null,
            "grid_auto_columns": null,
            "grid_auto_flow": null,
            "grid_auto_rows": null,
            "grid_column": null,
            "grid_gap": null,
            "grid_row": null,
            "grid_template_areas": null,
            "grid_template_columns": null,
            "grid_template_rows": null,
            "height": null,
            "justify_content": null,
            "justify_items": null,
            "left": null,
            "margin": null,
            "max_height": null,
            "max_width": null,
            "min_height": null,
            "min_width": null,
            "object_fit": null,
            "object_position": null,
            "order": null,
            "overflow": null,
            "overflow_x": null,
            "overflow_y": null,
            "padding": null,
            "right": null,
            "top": null,
            "visibility": null,
            "width": null
          }
        }
      }
    }
  },
  "cells": [
    {
      "cell_type": "code",
      "execution_count": 1,
      "metadata": {
        "colab": {
          "base_uri": "https://localhost:8080/"
        },
        "id": "5L1-8CSePov-",
        "outputId": "1446f1d2-d363-4cdb-95a0-df1d6e994740"
      },
      "outputs": [
        {
          "output_type": "stream",
          "name": "stdout",
          "text": [
            "\u001b[?25l   \u001b[90m━━━━━━━━━━━━━━━━━━━━━━━━━━━━━━━━━━━━━━━━\u001b[0m \u001b[32m0.0/1.6 MB\u001b[0m \u001b[31m?\u001b[0m eta \u001b[36m-:--:--\u001b[0m\r\u001b[2K   \u001b[91m━━━━━━━━━━━━━━━━━━━━━━━━━━━━━━━━━━━━━━━\u001b[0m\u001b[91m╸\u001b[0m \u001b[32m1.6/1.6 MB\u001b[0m \u001b[31m89.8 MB/s\u001b[0m eta \u001b[36m0:00:01\u001b[0m\r\u001b[2K   \u001b[90m━━━━━━━━━━━━━━━━━━━━━━━━━━━━━━━━━━━━━━━━\u001b[0m \u001b[32m1.6/1.6 MB\u001b[0m \u001b[31m28.0 MB/s\u001b[0m eta \u001b[36m0:00:00\u001b[0m\n",
            "\u001b[?25h"
          ]
        }
      ],
      "source": [
        "!pip install -q tensorflow pillow numpy ipywidgets requests\n"
      ]
    },
    {
      "cell_type": "code",
      "source": [
        "import os\n",
        "import io\n",
        "import requests\n",
        "import numpy as np\n",
        "import tensorflow as tf\n",
        "from PIL import Image as PILImage\n",
        "import ipywidgets as widgets\n",
        "from IPython.display import display, Image\n",
        "\n",
        "def run_otitis_demo_tflite(\n",
        "    model_url: str = \"https://raw.githubusercontent.com/averksuu/resume/main/projects/otitis-detection/models/otitis_cnn_best.tflite\",\n",
        "    model_path: str = \"models/otitis_cnn_best.tflite\"\n",
        "):\n",
        "\n",
        "    os.makedirs(os.path.dirname(model_path), exist_ok=True)\n",
        "    if not os.path.exists(model_path):\n",
        "        print(\"Downloading TFLite model...\")\n",
        "        r = requests.get(model_url)\n",
        "        r.raise_for_status()\n",
        "        with open(model_path, \"wb\") as f:\n",
        "            f.write(r.content)\n",
        "        print(\"Model saved to\", model_path)\n",
        "    else:\n",
        "        print(\"Model already exists at\", model_path)\n",
        "\n",
        "\n",
        "    interpreter = tf.lite.Interpreter(model_path=model_path)\n",
        "    interpreter.allocate_tensors()\n",
        "    in_details  = interpreter.get_input_details()\n",
        "    out_details = interpreter.get_output_details()\n",
        "    print(\"Interpreter loaded. Input shape:\", in_details[0]['shape'])\n",
        "\n",
        "    def preprocess_image_from_bytes(image_bytes):\n",
        "        img = PILImage.open(io.BytesIO(image_bytes)).convert('RGB').resize((128,128))\n",
        "        arr = np.array(img, dtype=np.float32) / 255.0\n",
        "        return arr\n",
        "\n",
        "\n",
        "    uploader = widgets.FileUpload(accept='image/*', multiple=False)\n",
        "    output   = widgets.Output()\n",
        "\n",
        "    def on_upload_change(change):\n",
        "        output.clear_output()\n",
        "        for _, file_info in uploader.value.items():\n",
        "            img_bytes = file_info['content']\n",
        "            arr = preprocess_image_from_bytes(img_bytes)[np.newaxis, ...]\n",
        "            interpreter.set_tensor(in_details[0]['index'], arr)\n",
        "            interpreter.invoke()\n",
        "            prob = interpreter.get_tensor(out_details[0]['index'])[0][0]\n",
        "            label = 'Otitis' if prob >= 0.5 else 'Normal'\n",
        "\n",
        "            with output:\n",
        "                display(Image(data=img_bytes))\n",
        "                print(f\"Probability of Otitis: {prob:.4f}\")\n",
        "                print(f\"Predicted class      : {label}\")\n",
        "\n",
        "    uploader.observe(on_upload_change, names='value')\n",
        "    display(widgets.VBox([\n",
        "        widgets.Label(\"Upload an ear image (.jpg/.png):\"),\n",
        "        uploader,\n",
        "        output\n",
        "    ]))\n",
        "\n",
        "\n",
        "run_otitis_demo_tflite()"
      ],
      "metadata": {
        "colab": {
          "base_uri": "https://localhost:8080/",
          "height": 463,
          "referenced_widgets": [
            "74879879f8ba457ea1cc2fdd5db090d4",
            "6eb6724c77804e149a923519c2f16662",
            "ed05b24c23fc484ea00dc339b5667a24",
            "5b74675da8264e43a5fa8caa80f7e1b9",
            "8025b9a4484e4d1d8bf83cd6e14424ae",
            "d502a3a936184916b1278bb34ae2a2a8",
            "d7b6fd0014274463871ab5ea438756ac",
            "71d1a5ee1d2544d1af15199f82e66420",
            "43329520d428480398ea75fc85802d2e",
            "a2e90d5a5c374ff3968ab364114100a2"
          ]
        },
        "id": "zZJrRelLTrMi",
        "outputId": "c86ccd39-5333-4c02-96da-bbae64c7cf44"
      },
      "execution_count": 4,
      "outputs": [
        {
          "output_type": "stream",
          "name": "stdout",
          "text": [
            "Downloading TFLite model...\n",
            "Model saved to models/otitis_cnn_best.tflite\n",
            "Interpreter loaded. Input shape: [  1 128 128   3]\n"
          ]
        },
        {
          "output_type": "display_data",
          "data": {
            "text/plain": [
              "VBox(children=(Label(value='Upload an ear image (.jpg/.png):'), FileUpload(value={}, accept='image/*', descrip…"
            ],
            "application/vnd.jupyter.widget-view+json": {
              "version_major": 2,
              "version_minor": 0,
              "model_id": "74879879f8ba457ea1cc2fdd5db090d4"
            }
          },
          "metadata": {}
        }
      ]
    }
  ]
}